{
 "cells": [
  {
   "cell_type": "code",
   "execution_count": 10,
   "id": "bc95412e-054a-4045-bf50-eaf9ac62ed53",
   "metadata": {},
   "outputs": [
    {
     "name": "stdout",
     "output_type": "stream",
     "text": [
      "Items in the list:\n",
      "apple\n",
      "banana\n",
      "orange\n",
      "grape\n",
      "Subfields in AI:\n",
      "Machine Learning\n",
      "Neural Networks\n",
      "Vision\n",
      "Robotics\n",
      "Speech Processing\n",
      "Natural Language Processing\n"
     ]
    },
    {
     "name": "stdin",
     "output_type": "stream",
     "text": [
      "Enter a number:  56\n"
     ]
    },
    {
     "name": "stdout",
     "output_type": "stream",
     "text": [
      "The given number is even.\n"
     ]
    },
    {
     "name": "stdin",
     "output_type": "stream",
     "text": [
      "Your Gender:  56\n",
      "Your Age:  21\n"
     ]
    },
    {
     "name": "stdout",
     "output_type": "stream",
     "text": [
      "NOT ELIGIBLE\n"
     ]
    },
    {
     "name": "stdin",
     "output_type": "stream",
     "text": [
      "Enter the total marks obtained:  500\n",
      "Enter the total possible marks:  500\n"
     ]
    },
    {
     "name": "stdout",
     "output_type": "stream",
     "text": [
      "Your percentage is: 100.00%\n"
     ]
    },
    {
     "name": "stdin",
     "output_type": "stream",
     "text": [
      "Subject 1:  89\n",
      "Subject 2:  89\n",
      "Subject 3:  82\n",
      "Subject 4:  99\n",
      "Subject 5:  99\n"
     ]
    },
    {
     "name": "stdout",
     "output_type": "stream",
     "text": [
      "Total is: 458, Percentage is: 91.60%\n"
     ]
    },
    {
     "name": "stdin",
     "output_type": "stream",
     "text": [
      "Enter triangle height:  45\n",
      "Enter triangle breadth:  45\n"
     ]
    },
    {
     "name": "stdout",
     "output_type": "stream",
     "text": [
      "Area of triangle is: 1012.5\n"
     ]
    },
    {
     "name": "stdin",
     "output_type": "stream",
     "text": [
      "Enter triangle side 1:  45\n",
      "Enter triangle side 2:  45\n",
      "Enter triangle side 3:  45\n"
     ]
    },
    {
     "name": "stdout",
     "output_type": "stream",
     "text": [
      "Perimeter of triangle is: 135\n"
     ]
    }
   ],
   "source": [
    "from DataManager import DataManager"
   ]
  },
  {
   "cell_type": "code",
   "execution_count": 11,
   "id": "8b548a29-ae38-4626-9307-bf0cbdec9c34",
   "metadata": {},
   "outputs": [
    {
     "name": "stdout",
     "output_type": "stream",
     "text": [
      "Subfields in AI:\n",
      "Machine Learning\n",
      "Neural Networks\n",
      "Vision\n",
      "Robotics\n",
      "Speech Processing\n",
      "Natural Language Processing\n"
     ]
    }
   ],
   "source": [
    "DataManager.print_subfields()"
   ]
  },
  {
   "cell_type": "code",
   "execution_count": 12,
   "id": "cf6f0e21-a7b7-4c85-ae97-f210c6e76ffd",
   "metadata": {},
   "outputs": [
    {
     "name": "stdin",
     "output_type": "stream",
     "text": [
      "Enter a number:  2\n"
     ]
    },
    {
     "name": "stdout",
     "output_type": "stream",
     "text": [
      "The given number is even.\n"
     ]
    }
   ],
   "source": [
    "DataManager.odd_or_even()\n"
   ]
  },
  {
   "cell_type": "code",
   "execution_count": 13,
   "id": "9ca1fca7-21a8-4ea0-bda7-ba18a00f2b1d",
   "metadata": {},
   "outputs": [
    {
     "name": "stdout",
     "output_type": "stream",
     "text": [
      "Items in the list:\n",
      "apple\n",
      "banana\n",
      "orange\n",
      "grape\n"
     ]
    }
   ],
   "source": [
    "DataManager.list_items()"
   ]
  },
  {
   "cell_type": "code",
   "execution_count": 14,
   "id": "ba38443d-bfdb-463c-b962-b183313e6356",
   "metadata": {},
   "outputs": [
    {
     "name": "stdin",
     "output_type": "stream",
     "text": [
      "Your Gender:  male\n",
      "Your Age:  25\n"
     ]
    },
    {
     "name": "stdout",
     "output_type": "stream",
     "text": [
      "ELIGIBLE\n"
     ]
    }
   ],
   "source": [
    "DataManager.check_eligibility()\n"
   ]
  },
  {
   "cell_type": "code",
   "execution_count": 15,
   "id": "a9dbcec4-7415-4ecf-8228-6c39d37fc417",
   "metadata": {},
   "outputs": [
    {
     "name": "stdin",
     "output_type": "stream",
     "text": [
      "Enter the total marks obtained:  450\n",
      "Enter the total possible marks:  500\n"
     ]
    },
    {
     "name": "stdout",
     "output_type": "stream",
     "text": [
      "Your percentage is: 90.00%\n"
     ]
    }
   ],
   "source": [
    "DataManager.calculate_percentage()"
   ]
  },
  {
   "cell_type": "code",
   "execution_count": 16,
   "id": "891de5f3-7007-4b35-8dcf-db580d5181ac",
   "metadata": {},
   "outputs": [
    {
     "name": "stdin",
     "output_type": "stream",
     "text": [
      "Subject 1:  99\n",
      "Subject 2:  99\n",
      "Subject 3:  99\n",
      "Subject 4:  99\n",
      "Subject 5:  99\n"
     ]
    },
    {
     "name": "stdout",
     "output_type": "stream",
     "text": [
      "Total is: 495, Percentage is: 99.00%\n"
     ]
    }
   ],
   "source": [
    "DataManager.calculate_total_and_percentage()"
   ]
  },
  {
   "cell_type": "code",
   "execution_count": 17,
   "id": "25b0d172-a800-42c3-a0ea-cb746fc38fbb",
   "metadata": {},
   "outputs": [
    {
     "name": "stdin",
     "output_type": "stream",
     "text": [
      "Enter triangle height:  56\n",
      "Enter triangle breadth:  56\n"
     ]
    },
    {
     "name": "stdout",
     "output_type": "stream",
     "text": [
      "Area of triangle is: 1568.0\n"
     ]
    },
    {
     "name": "stdin",
     "output_type": "stream",
     "text": [
      "Enter triangle side 1:  55\n",
      "Enter triangle side 2:  55\n",
      "Enter triangle side 3:  55\n"
     ]
    },
    {
     "name": "stdout",
     "output_type": "stream",
     "text": [
      "Perimeter of triangle is: 165\n"
     ]
    }
   ],
   "source": [
    "DataManager.triangle_properties()"
   ]
  },
  {
   "cell_type": "code",
   "execution_count": null,
   "id": "8af80795-df70-4a09-8e32-19562979bee2",
   "metadata": {},
   "outputs": [],
   "source": []
  }
 ],
 "metadata": {
  "kernelspec": {
   "display_name": "Python 3 (ipykernel)",
   "language": "python",
   "name": "python3"
  },
  "language_info": {
   "codemirror_mode": {
    "name": "ipython",
    "version": 3
   },
   "file_extension": ".py",
   "mimetype": "text/x-python",
   "name": "python",
   "nbconvert_exporter": "python",
   "pygments_lexer": "ipython3",
   "version": "3.11.7"
  }
 },
 "nbformat": 4,
 "nbformat_minor": 5
}
